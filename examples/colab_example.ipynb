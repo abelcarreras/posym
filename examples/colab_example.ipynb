{
 "cells": [
  {
   "cell_type": "markdown",
   "metadata": {},
   "source": [
    "Install the required packages"
   ]
  },
  {
   "cell_type": "code",
   "execution_count": 1,
   "metadata": {
    "collapsed": true
   },
   "outputs": [
    {
     "name": "stdout",
     "output_type": "stream",
     "text": [
      "zsh:1: command not found: pip\r\n"
     ]
    }
   ],
   "source": [
    "! pip install git+https://github.com/abelcarreras/posym.git\n"
   ]
  },
  {
   "cell_type": "markdown",
   "metadata": {},
   "source": [
    "Import necessary modules"
   ]
  },
  {
   "cell_type": "code",
   "execution_count": 2,
   "metadata": {
    "pycharm": {
     "name": "#%%\n"
    }
   },
   "outputs": [],
   "source": [
    "from posym.basis import PrimitiveGaussian, BasisFunction\n",
    "from posym import SymmetryFunction, SymmetryModes, SymmetryBase\n",
    "import posym.algebra as al\n",
    "import matplotlib.pyplot as plt\n",
    "import numpy as np"
   ]
  },
  {
   "cell_type": "markdown",
   "metadata": {},
   "source": [
    "## Working with basis functions\n",
    "Posym includes a basis function module that allows to define and manipulate basis functions\n",
    "build from gaussian primitives. BasisFunction objects form an algebraic structure in which the\n",
    "product, addition and scaling (product by a scalar) are defined. These operations between two objects results in another\n",
    "object of the same type. Additionally these objects implement the method *integrate* which computes\n",
    "the analytic integral of the function from -inf to +inf. This integral is implemented in a C extension\n",
    "to improve its performance.\n",
    "In this example I use the water molecule to illustrate the use of the basis function module to compute\n",
    "and visualize some quantum chemistry objects."
   ]
  },
  {
   "cell_type": "markdown",
   "metadata": {},
   "source": [
    "Define STO-3G basis for H2O molecule using the PrimitiveGaussian and BasisFunction classes"
   ]
  },
  {
   "cell_type": "code",
   "execution_count": 3,
   "metadata": {
    "pycharm": {
     "name": "#%%\n"
    }
   },
   "outputs": [
    {
     "data": {
      "text/plain": "'\\n$basis\\n*\\nh STO-3G\\n*\\n    3   s\\n      0.3425250914D+01       0.1543289673D+00\\n      0.6239137298D+00       0.5353281423D+00\\n      0.1688554040D+00       0.4446345422D+00\\n*\\no STO-3G\\n*\\n    3   s\\n      0.1307093214D+03       0.1543289673D+00\\n      0.2380886605D+02       0.5353281423D+00\\n      0.6443608313D+01       0.4446345422D+00\\n    3   s\\n      0.5033151319D+01      -0.9996722919D-01\\n      0.1169596125D+01       0.3995128261D+00\\n      0.3803889600D+00       0.7001154689D+00\\n    3   p\\n      0.5033151319D+01       0.1559162750D+00\\n      0.1169596125D+01       0.6076837186D+00\\n      0.3803889600D+00       0.3919573931D+00\\n*\\n$end\\n\\n# coordinates in bohr\\n        X         Y          Z\\nO   0.000000  0.0000000  -0.0808819\\nH  -1.432620  0.0000000  -1.2823700\\nH   1.432620  0.0000000  -1.2823700\\n\\n'"
     },
     "execution_count": 3,
     "metadata": {},
     "output_type": "execute_result"
    }
   ],
   "source": [
    "\"\"\"\n",
    "$basis\n",
    "*\n",
    "h STO-3G\n",
    "*\n",
    "    3   s\n",
    "      0.3425250914D+01       0.1543289673D+00\n",
    "      0.6239137298D+00       0.5353281423D+00\n",
    "      0.1688554040D+00       0.4446345422D+00\n",
    "*\n",
    "o STO-3G\n",
    "*\n",
    "    3   s\n",
    "      0.1307093214D+03       0.1543289673D+00\n",
    "      0.2380886605D+02       0.5353281423D+00\n",
    "      0.6443608313D+01       0.4446345422D+00\n",
    "    3   s\n",
    "      0.5033151319D+01      -0.9996722919D-01\n",
    "      0.1169596125D+01       0.3995128261D+00\n",
    "      0.3803889600D+00       0.7001154689D+00\n",
    "    3   p\n",
    "      0.5033151319D+01       0.1559162750D+00\n",
    "      0.1169596125D+01       0.6076837186D+00\n",
    "      0.3803889600D+00       0.3919573931D+00\n",
    "*\n",
    "$end\n",
    "\n",
    "# coordinates in bohr\n",
    "        X         Y          Z\n",
    "O   0.000000  0.0000000  -0.0808819\n",
    "H  -1.432620  0.0000000  -1.2823700\n",
    "H   1.432620  0.0000000  -1.2823700\n",
    "\n",
    "\"\"\""
   ]
  },
  {
   "cell_type": "code",
   "execution_count": 4,
   "metadata": {
    "pycharm": {
     "name": "#%%\n"
    }
   },
   "outputs": [],
   "source": [
    "# Oxigen atom\n",
    "sa = PrimitiveGaussian(alpha=130.70932)\n",
    "sb = PrimitiveGaussian(alpha=23.808861)\n",
    "sc = PrimitiveGaussian(alpha=6.4436083)\n",
    "s_O = BasisFunction([sa, sb, sc],\n",
    "                    [0.154328969, 0.535328136, 0.444634536],\n",
    "                    center=[0.0000000000, 0.000000000, -0.0808819]) # Bohr\n",
    "\n",
    "sa = PrimitiveGaussian(alpha=5.03315132)\n",
    "sb = PrimitiveGaussian(alpha=1.1695961)\n",
    "sc = PrimitiveGaussian(alpha=0.3803890)\n",
    "s2_O = BasisFunction([sa, sb, sc],\n",
    "                     [-0.099967228, 0.399512825, 0.700115461],\n",
    "                     center=[0.0000000000, 0.000000000, -0.0808819])\n",
    "\n",
    "pxa = PrimitiveGaussian(alpha=5.0331513, l=[1, 0, 0])\n",
    "pxb = PrimitiveGaussian(alpha=1.1695961, l=[1, 0, 0])\n",
    "pxc = PrimitiveGaussian(alpha=0.3803890, l=[1, 0, 0])\n",
    "\n",
    "pya = PrimitiveGaussian(alpha=5.0331513, l=[0, 1, 0])\n",
    "pyb = PrimitiveGaussian(alpha=1.1695961, l=[0, 1, 0])\n",
    "pyc = PrimitiveGaussian(alpha=0.3803890, l=[0, 1, 0])\n",
    "\n",
    "pza = PrimitiveGaussian(alpha=5.0331513, l=[0, 0, 1])\n",
    "pzb = PrimitiveGaussian(alpha=1.1695961, l=[0, 0, 1])\n",
    "pzc = PrimitiveGaussian(alpha=0.3803890, l=[0, 0, 1])\n",
    "\n",
    "px_O = BasisFunction([pxa, pxb, pxc],\n",
    "                     [0.155916268, 0.6076837186, 0.3919573931],\n",
    "                     center=[0.0000000000, 0.000000000, -0.0808819])\n",
    "py_O = BasisFunction([pya, pyb, pyc],\n",
    "                     [0.155916268, 0.6076837186, 0.3919573931],\n",
    "                     center=[0.0000000000, 0.000000000, -0.0808819])\n",
    "pz_O = BasisFunction([pza, pzb, pzc],\n",
    "                     [0.155916268, 0.6076837186, 0.3919573931],\n",
    "                     center=[0.0000000000, 0.000000000, -0.0808819])\n",
    "\n",
    "# Hydrogen atoms\n",
    "sa = PrimitiveGaussian(alpha=3.42525091)\n",
    "sb = PrimitiveGaussian(alpha=0.62391373)\n",
    "sc = PrimitiveGaussian(alpha=0.1688554)\n",
    "s_H = BasisFunction([sa, sb, sc],\n",
    "                    [0.154328971, 0.535328142, 0.444634542],\n",
    "                    center=[-1.43262, 0.000000000, -1.28237])\n",
    "\n",
    "s2_H = BasisFunction([sa, sb, sc],\n",
    "                     [0.154328971, 0.535328142, 0.444634542],\n",
    "                     center=[1.43262, 0.000000000, -1.28237])\n",
    "\n",
    "basis_set = [s_O, s2_O, px_O, py_O, pz_O, s_H, s2_H]"
   ]
  },
  {
   "cell_type": "markdown",
   "metadata": {},
   "source": [
    "BasisFunction objects can be called as usual functions that may be plotted and evaluated.\n",
    "Here I plot the S and PX functions centered on the oxygen atom."
   ]
  },
  {
   "cell_type": "code",
   "execution_count": 5,
   "metadata": {
    "pycharm": {
     "name": "#%%\n"
    }
   },
   "outputs": [
    {
     "data": {
      "text/plain": "<matplotlib.legend.Legend at 0x12a5f1190>"
     },
     "execution_count": 5,
     "metadata": {},
     "output_type": "execute_result"
    },
    {
     "data": {
      "text/plain": "<Figure size 432x288 with 1 Axes>",
      "image/png": "[encoded data removed]"
     },
     "metadata": {
      "needs_background": "light"
     },
     "output_type": "display_data"
    }
   ],
   "source": [
    "xrange = np.linspace(-4, 4, 100)\n",
    "yrange = np.zeros_like(xrange)\n",
    "zrange = np.zeros_like(xrange)\n",
    "\n",
    "plt.plot(xrange, s_O(xrange, yrange, zrange), label='s_O')\n",
    "plt.plot(xrange, px_O(xrange, yrange, zrange), label='px_O')\n",
    "plt.legend()"
   ]
  },
  {
   "cell_type": "markdown",
   "metadata": {},
   "source": [
    "Using BasisFunctions it is possible to build molecular orbitals from MO coefficients\n",
    "by simple linear combination of basis functions operated by real coefficients.\n"
   ]
  },
  {
   "cell_type": "code",
   "execution_count": 6,
   "metadata": {
    "pycharm": {
     "name": "#%%\n"
    }
   },
   "outputs": [
    {
     "data": {
      "text/plain": "'\\nMO Coefficients\\n\\n [[ 0.994216442, 0.025846814, 0.000000000, 0.000000000,-0.004164076,-0.005583712, -0.005583712],\\n  [ 0.233766661,-0.844456594, 0.000000000, 0.000000000, 0.122829781,-0.155593214, -0.155593214],\\n  [ 0.000000000, 0.000000000, 0.612692349, 0.000000000, 0.000000000,-0.449221684,  0.449221684],\\n  [-0.104033343, 0.538153649, 0.000000000, 0.000000000, 0.755880259,-0.295107107, -0.295107107],\\n  [ 0.000000000, 0.000000000, 0.000000000,-1.000000000, 0.000000000, 0.000000000,  0.000000000],\\n  [-0.125818566, 0.820120983, 0.000000000, 0.000000000,-0.763538862,-0.769155124, -0.769155124],\\n  [ 0.000000000, 0.000000000, 0.959800163, 0.000000000, 0.000000000, 0.814629717, -0.814629717]]\\n'"
     },
     "execution_count": 6,
     "metadata": {},
     "output_type": "execute_result"
    }
   ],
   "source": [
    "\"\"\"\n",
    "MO Coefficients\n",
    "\n",
    " [[ 0.994216442, 0.025846814, 0.000000000, 0.000000000,-0.004164076,-0.005583712, -0.005583712],\n",
    "  [ 0.233766661,-0.844456594, 0.000000000, 0.000000000, 0.122829781,-0.155593214, -0.155593214],\n",
    "  [ 0.000000000, 0.000000000, 0.612692349, 0.000000000, 0.000000000,-0.449221684,  0.449221684],\n",
    "  [-0.104033343, 0.538153649, 0.000000000, 0.000000000, 0.755880259,-0.295107107, -0.295107107],\n",
    "  [ 0.000000000, 0.000000000, 0.000000000,-1.000000000, 0.000000000, 0.000000000,  0.000000000],\n",
    "  [-0.125818566, 0.820120983, 0.000000000, 0.000000000,-0.763538862,-0.769155124, -0.769155124],\n",
    "  [ 0.000000000, 0.000000000, 0.959800163, 0.000000000, 0.000000000, 0.814629717, -0.814629717]]\n",
    "\"\"\""
   ]
  },
  {
   "cell_type": "code",
   "execution_count": 7,
   "metadata": {
    "pycharm": {
     "name": "#%%\n"
    }
   },
   "outputs": [],
   "source": [
    "# Orbital 1\n",
    "o1 = s_O * 0.994216442 + s2_O * 0.025846814 + px_O * 0.0 + py_O * 0.0 + pz_O * -0.004164076 + s_H * -0.005583712 + s2_H * -0.005583712\n",
    "\n",
    "# Orbital 2\n",
    "o2 = s_O * 0.23376666 + s2_O * -0.844456594 + px_O * 0.0 + py_O * 0.0 + pz_O * 0.122829781 + s_H * -0.155593214 + s2_H * -0.155593214\n",
    "\n",
    "# Orbital 3\n",
    "o3 = s_O * 0.0 + s2_O * 0.0 + px_O * 0.612692349 + py_O * 0.0 + pz_O * 0.0 + s_H * -0.44922168 + s2_H * 0.449221684\n",
    "\n",
    "# Orbital 4\n",
    "o4 = s_O * -0.104033343 + s2_O * 0.538153649 + px_O * 0.0 + py_O * 0.0 + pz_O * 0.755880259 + s_H * -0.295107107 + s2_H * -0.2951071074\n",
    "\n",
    "# Orbital 5\n",
    "o5 = s_O * 0.0 + s2_O * 0.0 + px_O * 0.0 + py_O * -1.0 + pz_O * 0.0 + s_H * 0.0 + s2_H * 0.0\n",
    "\n",
    "# Orbital 6\n",
    "o6 = s_O * -0.125818566 + s2_O * 0.820120983 + px_O * 0.0 + py_O * 0.0 + pz_O * -0.763538862 + s_H * -0.769155124 + s2_H * -0.769155124"
   ]
  },
  {
   "cell_type": "markdown",
   "metadata": {},
   "source": [
    "The scalar product between to BasisFunctions is obtained by using the product (*) operator and the integrate method."
   ]
  },
  {
   "cell_type": "code",
   "execution_count": 8,
   "metadata": {
    "pycharm": {
     "name": "#%%\n"
    }
   },
   "outputs": [
    {
     "name": "stdout",
     "output_type": "stream",
     "text": [
      "<o1|o1>:  1.0000000088752232\n",
      "<o2|o2>:  0.9999989709860797\n",
      "<o1|o2>:  9.550356693162083e-08\n"
     ]
    }
   ],
   "source": [
    "print('<o1|o1>: ', (o1*o1).integrate)\n",
    "print('<o2|o2>: ', (o2*o2).integrate)\n",
    "print('<o1|o2>: ', (o1*o2).integrate)\n"
   ]
  },
  {
   "cell_type": "markdown",
   "metadata": {},
   "source": [
    "BasisFunction can be modified by applying linear transformations. This is done using *apply_linear_transformation()* method.\n",
    "For convenience, two usual transformations (rotations and translations) are specifically implemented."
   ]
  },
  {
   "cell_type": "code",
   "execution_count": 9,
   "metadata": {
    "pycharm": {
     "name": "#%%\n"
    }
   },
   "outputs": [
    {
     "data": {
      "text/plain": "<posym.basis.BasisFunction object at 0x12a53ca30>"
     },
     "execution_count": 9,
     "metadata": {},
     "output_type": "execute_result"
    }
   ],
   "source": [
    "o3_rot = o3.copy()\n",
    "o3_rot.apply_rotation(-np.pi/2, [1, 0, 0])\n",
    "o3_rot.apply_translation([0, +0.5, 0])"
   ]
  },
  {
   "cell_type": "markdown",
   "metadata": {},
   "source": [
    "For convenience, BasisFunctions objects can be called in a vectorized-like way. This is\n",
    "useful to plot slices (2D plots) of these functions."
   ]
  },
  {
   "cell_type": "code",
   "execution_count": 10,
   "metadata": {
    "pycharm": {
     "name": "#%%\n"
    }
   },
   "outputs": [
    {
     "data": {
      "text/plain": "<matplotlib.contour.QuadContourSet at 0x12a761100>"
     },
     "execution_count": 10,
     "metadata": {},
     "output_type": "execute_result"
    },
    {
     "data": {
      "text/plain": "<Figure size 432x288 with 1 Axes>",
      "image/png": "[encoded data removed]"
     },
     "metadata": {
      "needs_background": "light"
     },
     "output_type": "display_data"
    },
    {
     "data": {
      "text/plain": "<Figure size 432x288 with 1 Axes>",
      "image/png": "[encoded data removed]"
     },
     "metadata": {
      "needs_background": "light"
     },
     "output_type": "display_data"
    }
   ],
   "source": [
    "x = np.linspace(-2, 2, 50)\n",
    "y = np.linspace(-2, 2, 50)\n",
    "\n",
    "X, Y = np.meshgrid(x, y)\n",
    "\n",
    "Z = o3_rot(X, Y, np.zeros_like(X))\n",
    "plt.imshow(Z, interpolation='bilinear', origin='lower', cmap='seismic')\n",
    "plt.figure()\n",
    "plt.contour(X, Y, Z, colors='k')"
   ]
  },
  {
   "cell_type": "markdown",
   "metadata": {},
   "source": [
    "## Symmetry analysis\n",
    "Posym implements a basic class for symmetry handling (SymmetryBase). These symmetry objects also form an algebraic\n",
    "structure in which the product (direct product) addition and scaling are defined. From this base class other\n",
    "subclasses are created to implement the symmetry of specific objects.\n",
    "\n",
    "In this example I show the use of these classes to perform a basic symmetry analysis of the molecular orbitals,\n",
    "wave function and electronic density of water molecule. Also this can be used to analyze the symmetry of quantum\n",
    "mechanics operator matrices defined in the same basis set."
   ]
  },
  {
   "cell_type": "markdown",
   "metadata": {},
   "source": [
    "Electronic density matrix can be build from the molecular orbitals and its occupation. From this density matrix,\n",
    "the actual density function can be easily obtained using the basis set. For convenience, this is implemented\n",
    "in a simple function: *build_density()*."
   ]
  },
  {
   "cell_type": "code",
   "execution_count": 11,
   "metadata": {},
   "outputs": [
    {
     "name": "stdout",
     "output_type": "stream",
     "text": [
      "density integral:  4.00000021709998\n"
     ]
    }
   ],
   "source": [
    "mo_coefficients = [[ 0.994216442,  0.025846814, 0.000000000,  0.000000000, -0.004164076, -0.005583712, -0.005583712],\n",
    "                   [ 0.233766661, -0.844456594, 0.000000000,  0.000000000,  0.122829781, -0.155593214, -0.155593214],\n",
    "                   [ 0.000000000,  0.000000000, 0.612692349,  0.000000000,  0.000000000, -0.449221684,  0.449221684],\n",
    "                   [-0.104033343,  0.538153649, 0.000000000,  0.000000000,  0.755880259, -0.295107107, -0.295107107],\n",
    "                   [ 0.000000000,  0.000000000, 0.000000000, -1.000000000,  0.000000000,  0.000000000,  0.000000000],\n",
    "                   [-0.125818566,  0.820120983, 0.000000000,  0.000000000, -0.763538862, -0.769155124, -0.769155124],\n",
    "                   [ 0.000000000,  0.000000000, 0.959800163,  0.000000000,  0.000000000,  0.814629717, -0.814629717]]\n",
    "\n",
    "coordinates = [[ 0.00000, 0.0000000, -0.0808819],\n",
    "               [-1.43262, 0.0000000, -1.2823700],\n",
    "               [ 1.43262, 0.0000000, -1.2823700]]\n",
    "\n",
    "symbols = ['O', 'H', 'H']\n",
    "\n",
    "density_matrix = 0 * np.outer(mo_coefficients[0], mo_coefficients[0]) + \\\n",
    "                 0 * np.outer(mo_coefficients[1], mo_coefficients[1]) + \\\n",
    "                 2 * np.outer(mo_coefficients[2], mo_coefficients[2]) + \\\n",
    "                 2 * np.outer(mo_coefficients[3], mo_coefficients[3]) + \\\n",
    "                 0 * np.outer(mo_coefficients[4], mo_coefficients[4]) + \\\n",
    "                 0 * np.outer(mo_coefficients[5], mo_coefficients[5]) + \\\n",
    "                 0 * np.outer(mo_coefficients[6], mo_coefficients[6])\n",
    "\n",
    "def build_density(basis_set, density_matrix):\n",
    "    density_matrix = np.array(density_matrix)\n",
    "    density = BasisFunction([], [])\n",
    "    for i, basis1 in enumerate(basis_set):\n",
    "        for j, basis2 in enumerate(basis_set):\n",
    "            density += basis1*basis2 * density_matrix[i, j]\n",
    "\n",
    "    return density\n",
    "\n",
    "f_density = build_density(basis_set, density_matrix)\n",
    "print('density integral: ', f_density.integrate)"
   ]
  },
  {
   "cell_type": "code",
   "execution_count": 12,
   "metadata": {
    "pycharm": {
     "name": "#%%\n"
    }
   },
   "outputs": [
    {
     "data": {
      "text/plain": "<matplotlib.contour.QuadContourSet at 0x12a8de220>"
     },
     "execution_count": 12,
     "metadata": {},
     "output_type": "execute_result"
    },
    {
     "data": {
      "text/plain": "<Figure size 432x288 with 1 Axes>",
      "image/png": "[encoded data removed]"
     },
     "metadata": {
      "needs_background": "light"
     },
     "output_type": "display_data"
    },
    {
     "data": {
      "text/plain": "<Figure size 432x288 with 1 Axes>",
      "image/png": "[encoded data removed]"
     },
     "metadata": {
      "needs_background": "light"
     },
     "output_type": "display_data"
    }
   ],
   "source": [
    "X, Y = np.meshgrid(x, y)\n",
    "f_density.apply_rotation(-np.pi/2, [1, 0, 0])\n",
    "Z = f_density(X, Y, np.zeros_like(X))\n",
    "plt.imshow(Z, interpolation='bilinear', origin='lower', cmap='seismic')\n",
    "plt.figure()\n",
    "plt.contour(X, Y, Z, colors='k')"
   ]
  },
  {
   "cell_type": "markdown",
   "metadata": {},
   "source": [
    "The density function symmetry is analyzed using SymmetryFunction class. This class works for functions defined\n",
    "with PrimitiveGaussian and BasisFunction objects. This returns a symmetry object."
   ]
  },
  {
   "cell_type": "code",
   "execution_count": 13,
   "metadata": {
    "pycharm": {
     "name": "#%%\n"
    }
   },
   "outputs": [
    {
     "ename": "KeyboardInterrupt",
     "evalue": "",
     "output_type": "error",
     "traceback": [
      "\u001B[0;31m---------------------------------------------------------------------------\u001B[0m",
      "\u001B[0;31mKeyboardInterrupt\u001B[0m                         Traceback (most recent call last)",
      "\u001B[0;32m<ipython-input-13-45bcf044061b>\u001B[0m in \u001B[0;36m<module>\u001B[0;34m\u001B[0m\n\u001B[0;32m----> 1\u001B[0;31m \u001B[0msym_density\u001B[0m \u001B[0;34m=\u001B[0m \u001B[0mSymmetryFunction\u001B[0m\u001B[0;34m(\u001B[0m\u001B[0;34m'c2v'\u001B[0m\u001B[0;34m,\u001B[0m \u001B[0mf_density\u001B[0m\u001B[0;34m)\u001B[0m\u001B[0;34m\u001B[0m\u001B[0;34m\u001B[0m\u001B[0m\n\u001B[0m\u001B[1;32m      2\u001B[0m \u001B[0mprint\u001B[0m\u001B[0;34m(\u001B[0m\u001B[0;34m'Symmetry density: '\u001B[0m\u001B[0;34m,\u001B[0m \u001B[0msym_density\u001B[0m\u001B[0;34m)\u001B[0m\u001B[0;34m\u001B[0m\u001B[0;34m\u001B[0m\u001B[0m\n\u001B[1;32m      3\u001B[0m \u001B[0mprint\u001B[0m\u001B[0;34m(\u001B[0m\u001B[0;34m'density self_similarity'\u001B[0m\u001B[0;34m,\u001B[0m \u001B[0msym_density\u001B[0m\u001B[0;34m.\u001B[0m\u001B[0mself_similarity\u001B[0m\u001B[0;34m)\u001B[0m\u001B[0;34m\u001B[0m\u001B[0;34m\u001B[0m\u001B[0m\n\u001B[1;32m      4\u001B[0m \u001B[0;34m\u001B[0m\u001B[0m\n",
      "\u001B[0;32m~/PycharmProjects/posym/posym/__init__.py\u001B[0m in \u001B[0;36m__init__\u001B[0;34m(self, group, function, orientation_angles, center)\u001B[0m\n\u001B[1;32m    252\u001B[0m \u001B[0;34m\u001B[0m\u001B[0m\n\u001B[1;32m    253\u001B[0m         \u001B[0;32mif\u001B[0m \u001B[0morientation_angles\u001B[0m \u001B[0;32mis\u001B[0m \u001B[0;32mNone\u001B[0m\u001B[0;34m:\u001B[0m\u001B[0;34m\u001B[0m\u001B[0;34m\u001B[0m\u001B[0m\n\u001B[0;32m--> 254\u001B[0;31m             \u001B[0mself\u001B[0m\u001B[0;34m.\u001B[0m\u001B[0m_angles\u001B[0m \u001B[0;34m=\u001B[0m \u001B[0mself\u001B[0m\u001B[0;34m.\u001B[0m\u001B[0mget_orientation\u001B[0m\u001B[0;34m(\u001B[0m\u001B[0mpg\u001B[0m\u001B[0;34m)\u001B[0m\u001B[0;34m\u001B[0m\u001B[0;34m\u001B[0m\u001B[0m\n\u001B[0m\u001B[1;32m    255\u001B[0m         \u001B[0;32melse\u001B[0m\u001B[0;34m:\u001B[0m\u001B[0;34m\u001B[0m\u001B[0;34m\u001B[0m\u001B[0m\n\u001B[1;32m    256\u001B[0m             \u001B[0mself\u001B[0m\u001B[0;34m.\u001B[0m\u001B[0m_angles\u001B[0m \u001B[0;34m=\u001B[0m \u001B[0morientation_angles\u001B[0m\u001B[0;34m\u001B[0m\u001B[0;34m\u001B[0m\u001B[0m\n",
      "\u001B[0;32m~/PycharmProjects/posym/posym/__init__.py\u001B[0m in \u001B[0;36mget_orientation\u001B[0;34m(self, pg)\u001B[0m\n\u001B[1;32m    301\u001B[0m \u001B[0;34m\u001B[0m\u001B[0m\n\u001B[1;32m    302\u001B[0m         \u001B[0minitial\u001B[0m \u001B[0;34m=\u001B[0m \u001B[0mnp\u001B[0m\u001B[0;34m.\u001B[0m\u001B[0marray\u001B[0m\u001B[0;34m(\u001B[0m\u001B[0mlist_a\u001B[0m\u001B[0;34m[\u001B[0m\u001B[0mnp\u001B[0m\u001B[0;34m.\u001B[0m\u001B[0mnanargmin\u001B[0m\u001B[0;34m(\u001B[0m\u001B[0mlist_m\u001B[0m\u001B[0;34m)\u001B[0m\u001B[0;34m]\u001B[0m\u001B[0;34m)\u001B[0m\u001B[0;34m\u001B[0m\u001B[0;34m\u001B[0m\u001B[0m\n\u001B[0;32m--> 303\u001B[0;31m         res = minimize(optimization_function, initial, method='CG',\n\u001B[0m\u001B[1;32m    304\u001B[0m                        \u001B[0;31m# bounds=((0, 360), (0, 360), (0, 360)),\u001B[0m\u001B[0;34m\u001B[0m\u001B[0;34m\u001B[0m\u001B[0;34m\u001B[0m\u001B[0m\n\u001B[1;32m    305\u001B[0m                        \u001B[0;31m# tol=1e-20\u001B[0m\u001B[0;34m\u001B[0m\u001B[0;34m\u001B[0m\u001B[0;34m\u001B[0m\u001B[0m\n",
      "\u001B[0;32m/usr/local/lib/python3.9/site-packages/scipy/optimize/_minimize.py\u001B[0m in \u001B[0;36mminimize\u001B[0;34m(fun, x0, args, method, jac, hess, hessp, bounds, constraints, tol, callback, options)\u001B[0m\n\u001B[1;32m    610\u001B[0m         \u001B[0;32mreturn\u001B[0m \u001B[0m_minimize_powell\u001B[0m\u001B[0;34m(\u001B[0m\u001B[0mfun\u001B[0m\u001B[0;34m,\u001B[0m \u001B[0mx0\u001B[0m\u001B[0;34m,\u001B[0m \u001B[0margs\u001B[0m\u001B[0;34m,\u001B[0m \u001B[0mcallback\u001B[0m\u001B[0;34m,\u001B[0m \u001B[0mbounds\u001B[0m\u001B[0;34m,\u001B[0m \u001B[0;34m**\u001B[0m\u001B[0moptions\u001B[0m\u001B[0;34m)\u001B[0m\u001B[0;34m\u001B[0m\u001B[0;34m\u001B[0m\u001B[0m\n\u001B[1;32m    611\u001B[0m     \u001B[0;32melif\u001B[0m \u001B[0mmeth\u001B[0m \u001B[0;34m==\u001B[0m \u001B[0;34m'cg'\u001B[0m\u001B[0;34m:\u001B[0m\u001B[0;34m\u001B[0m\u001B[0;34m\u001B[0m\u001B[0m\n\u001B[0;32m--> 612\u001B[0;31m         \u001B[0;32mreturn\u001B[0m \u001B[0m_minimize_cg\u001B[0m\u001B[0;34m(\u001B[0m\u001B[0mfun\u001B[0m\u001B[0;34m,\u001B[0m \u001B[0mx0\u001B[0m\u001B[0;34m,\u001B[0m \u001B[0margs\u001B[0m\u001B[0;34m,\u001B[0m \u001B[0mjac\u001B[0m\u001B[0;34m,\u001B[0m \u001B[0mcallback\u001B[0m\u001B[0;34m,\u001B[0m \u001B[0;34m**\u001B[0m\u001B[0moptions\u001B[0m\u001B[0;34m)\u001B[0m\u001B[0;34m\u001B[0m\u001B[0;34m\u001B[0m\u001B[0m\n\u001B[0m\u001B[1;32m    613\u001B[0m     \u001B[0;32melif\u001B[0m \u001B[0mmeth\u001B[0m \u001B[0;34m==\u001B[0m \u001B[0;34m'bfgs'\u001B[0m\u001B[0;34m:\u001B[0m\u001B[0;34m\u001B[0m\u001B[0;34m\u001B[0m\u001B[0m\n\u001B[1;32m    614\u001B[0m         \u001B[0;32mreturn\u001B[0m \u001B[0m_minimize_bfgs\u001B[0m\u001B[0;34m(\u001B[0m\u001B[0mfun\u001B[0m\u001B[0;34m,\u001B[0m \u001B[0mx0\u001B[0m\u001B[0;34m,\u001B[0m \u001B[0margs\u001B[0m\u001B[0;34m,\u001B[0m \u001B[0mjac\u001B[0m\u001B[0;34m,\u001B[0m \u001B[0mcallback\u001B[0m\u001B[0;34m,\u001B[0m \u001B[0;34m**\u001B[0m\u001B[0moptions\u001B[0m\u001B[0;34m)\u001B[0m\u001B[0;34m\u001B[0m\u001B[0;34m\u001B[0m\u001B[0m\n",
      "\u001B[0;32m/usr/local/lib/python3.9/site-packages/scipy/optimize/optimize.py\u001B[0m in \u001B[0;36m_minimize_cg\u001B[0;34m(fun, x0, args, jac, callback, gtol, norm, eps, maxiter, disp, return_all, finite_diff_rel_step, **unknown_options)\u001B[0m\n\u001B[1;32m   1454\u001B[0m         \u001B[0mmaxiter\u001B[0m \u001B[0;34m=\u001B[0m \u001B[0mlen\u001B[0m\u001B[0;34m(\u001B[0m\u001B[0mx0\u001B[0m\u001B[0;34m)\u001B[0m \u001B[0;34m*\u001B[0m \u001B[0;36m200\u001B[0m\u001B[0;34m\u001B[0m\u001B[0;34m\u001B[0m\u001B[0m\n\u001B[1;32m   1455\u001B[0m \u001B[0;34m\u001B[0m\u001B[0m\n\u001B[0;32m-> 1456\u001B[0;31m     sf = _prepare_scalar_function(fun, x0, jac=jac, args=args, epsilon=eps,\n\u001B[0m\u001B[1;32m   1457\u001B[0m                                   finite_diff_rel_step=finite_diff_rel_step)\n\u001B[1;32m   1458\u001B[0m \u001B[0;34m\u001B[0m\u001B[0m\n",
      "\u001B[0;32m/usr/local/lib/python3.9/site-packages/scipy/optimize/optimize.py\u001B[0m in \u001B[0;36m_prepare_scalar_function\u001B[0;34m(fun, x0, jac, args, bounds, epsilon, finite_diff_rel_step, hess)\u001B[0m\n\u001B[1;32m    259\u001B[0m     \u001B[0;31m# ScalarFunction caches. Reuse of fun(x) during grad\u001B[0m\u001B[0;34m\u001B[0m\u001B[0;34m\u001B[0m\u001B[0;34m\u001B[0m\u001B[0m\n\u001B[1;32m    260\u001B[0m     \u001B[0;31m# calculation reduces overall function evaluations.\u001B[0m\u001B[0;34m\u001B[0m\u001B[0;34m\u001B[0m\u001B[0;34m\u001B[0m\u001B[0m\n\u001B[0;32m--> 261\u001B[0;31m     sf = ScalarFunction(fun, x0, args, grad, hess,\n\u001B[0m\u001B[1;32m    262\u001B[0m                         finite_diff_rel_step, bounds, epsilon=epsilon)\n\u001B[1;32m    263\u001B[0m \u001B[0;34m\u001B[0m\u001B[0m\n",
      "\u001B[0;32m/usr/local/lib/python3.9/site-packages/scipy/optimize/_differentiable_functions.py\u001B[0m in \u001B[0;36m__init__\u001B[0;34m(self, fun, x0, args, grad, hess, finite_diff_rel_step, finite_diff_bounds, epsilon)\u001B[0m\n\u001B[1;32m    134\u001B[0m \u001B[0;34m\u001B[0m\u001B[0m\n\u001B[1;32m    135\u001B[0m         \u001B[0mself\u001B[0m\u001B[0;34m.\u001B[0m\u001B[0m_update_fun_impl\u001B[0m \u001B[0;34m=\u001B[0m \u001B[0mupdate_fun\u001B[0m\u001B[0;34m\u001B[0m\u001B[0;34m\u001B[0m\u001B[0m\n\u001B[0;32m--> 136\u001B[0;31m         \u001B[0mself\u001B[0m\u001B[0;34m.\u001B[0m\u001B[0m_update_fun\u001B[0m\u001B[0;34m(\u001B[0m\u001B[0;34m)\u001B[0m\u001B[0;34m\u001B[0m\u001B[0;34m\u001B[0m\u001B[0m\n\u001B[0m\u001B[1;32m    137\u001B[0m \u001B[0;34m\u001B[0m\u001B[0m\n\u001B[1;32m    138\u001B[0m         \u001B[0;31m# Gradient evaluation\u001B[0m\u001B[0;34m\u001B[0m\u001B[0;34m\u001B[0m\u001B[0;34m\u001B[0m\u001B[0m\n",
      "\u001B[0;32m/usr/local/lib/python3.9/site-packages/scipy/optimize/_differentiable_functions.py\u001B[0m in \u001B[0;36m_update_fun\u001B[0;34m(self)\u001B[0m\n\u001B[1;32m    224\u001B[0m     \u001B[0;32mdef\u001B[0m \u001B[0m_update_fun\u001B[0m\u001B[0;34m(\u001B[0m\u001B[0mself\u001B[0m\u001B[0;34m)\u001B[0m\u001B[0;34m:\u001B[0m\u001B[0;34m\u001B[0m\u001B[0;34m\u001B[0m\u001B[0m\n\u001B[1;32m    225\u001B[0m         \u001B[0;32mif\u001B[0m \u001B[0;32mnot\u001B[0m \u001B[0mself\u001B[0m\u001B[0;34m.\u001B[0m\u001B[0mf_updated\u001B[0m\u001B[0;34m:\u001B[0m\u001B[0;34m\u001B[0m\u001B[0;34m\u001B[0m\u001B[0m\n\u001B[0;32m--> 226\u001B[0;31m             \u001B[0mself\u001B[0m\u001B[0;34m.\u001B[0m\u001B[0m_update_fun_impl\u001B[0m\u001B[0;34m(\u001B[0m\u001B[0;34m)\u001B[0m\u001B[0;34m\u001B[0m\u001B[0;34m\u001B[0m\u001B[0m\n\u001B[0m\u001B[1;32m    227\u001B[0m             \u001B[0mself\u001B[0m\u001B[0;34m.\u001B[0m\u001B[0mf_updated\u001B[0m \u001B[0;34m=\u001B[0m \u001B[0;32mTrue\u001B[0m\u001B[0;34m\u001B[0m\u001B[0;34m\u001B[0m\u001B[0m\n\u001B[1;32m    228\u001B[0m \u001B[0;34m\u001B[0m\u001B[0m\n",
      "\u001B[0;32m/usr/local/lib/python3.9/site-packages/scipy/optimize/_differentiable_functions.py\u001B[0m in \u001B[0;36mupdate_fun\u001B[0;34m()\u001B[0m\n\u001B[1;32m    131\u001B[0m \u001B[0;34m\u001B[0m\u001B[0m\n\u001B[1;32m    132\u001B[0m         \u001B[0;32mdef\u001B[0m \u001B[0mupdate_fun\u001B[0m\u001B[0;34m(\u001B[0m\u001B[0;34m)\u001B[0m\u001B[0;34m:\u001B[0m\u001B[0;34m\u001B[0m\u001B[0;34m\u001B[0m\u001B[0m\n\u001B[0;32m--> 133\u001B[0;31m             \u001B[0mself\u001B[0m\u001B[0;34m.\u001B[0m\u001B[0mf\u001B[0m \u001B[0;34m=\u001B[0m \u001B[0mfun_wrapped\u001B[0m\u001B[0;34m(\u001B[0m\u001B[0mself\u001B[0m\u001B[0;34m.\u001B[0m\u001B[0mx\u001B[0m\u001B[0;34m)\u001B[0m\u001B[0;34m\u001B[0m\u001B[0;34m\u001B[0m\u001B[0m\n\u001B[0m\u001B[1;32m    134\u001B[0m \u001B[0;34m\u001B[0m\u001B[0m\n\u001B[1;32m    135\u001B[0m         \u001B[0mself\u001B[0m\u001B[0;34m.\u001B[0m\u001B[0m_update_fun_impl\u001B[0m \u001B[0;34m=\u001B[0m \u001B[0mupdate_fun\u001B[0m\u001B[0;34m\u001B[0m\u001B[0;34m\u001B[0m\u001B[0m\n",
      "\u001B[0;32m/usr/local/lib/python3.9/site-packages/scipy/optimize/_differentiable_functions.py\u001B[0m in \u001B[0;36mfun_wrapped\u001B[0;34m(x)\u001B[0m\n\u001B[1;32m    128\u001B[0m         \u001B[0;32mdef\u001B[0m \u001B[0mfun_wrapped\u001B[0m\u001B[0;34m(\u001B[0m\u001B[0mx\u001B[0m\u001B[0;34m)\u001B[0m\u001B[0;34m:\u001B[0m\u001B[0;34m\u001B[0m\u001B[0;34m\u001B[0m\u001B[0m\n\u001B[1;32m    129\u001B[0m             \u001B[0mself\u001B[0m\u001B[0;34m.\u001B[0m\u001B[0mnfev\u001B[0m \u001B[0;34m+=\u001B[0m \u001B[0;36m1\u001B[0m\u001B[0;34m\u001B[0m\u001B[0;34m\u001B[0m\u001B[0m\n\u001B[0;32m--> 130\u001B[0;31m             \u001B[0;32mreturn\u001B[0m \u001B[0mfun\u001B[0m\u001B[0;34m(\u001B[0m\u001B[0mx\u001B[0m\u001B[0;34m,\u001B[0m \u001B[0;34m*\u001B[0m\u001B[0margs\u001B[0m\u001B[0;34m)\u001B[0m\u001B[0;34m\u001B[0m\u001B[0;34m\u001B[0m\u001B[0m\n\u001B[0m\u001B[1;32m    131\u001B[0m \u001B[0;34m\u001B[0m\u001B[0m\n\u001B[1;32m    132\u001B[0m         \u001B[0;32mdef\u001B[0m \u001B[0mupdate_fun\u001B[0m\u001B[0;34m(\u001B[0m\u001B[0;34m)\u001B[0m\u001B[0;34m:\u001B[0m\u001B[0;34m\u001B[0m\u001B[0;34m\u001B[0m\u001B[0m\n",
      "\u001B[0;32m~/PycharmProjects/posym/posym/__init__.py\u001B[0m in \u001B[0;36moptimization_function\u001B[0;34m(angles)\u001B[0m\n\u001B[1;32m    285\u001B[0m             \u001B[0mcoor_measures\u001B[0m \u001B[0;34m=\u001B[0m \u001B[0;34m[\u001B[0m\u001B[0;34m]\u001B[0m\u001B[0;34m\u001B[0m\u001B[0;34m\u001B[0m\u001B[0m\n\u001B[1;32m    286\u001B[0m             \u001B[0;32mfor\u001B[0m \u001B[0moperation\u001B[0m \u001B[0;32min\u001B[0m \u001B[0mpg\u001B[0m\u001B[0;34m.\u001B[0m\u001B[0moperations\u001B[0m\u001B[0;34m:\u001B[0m\u001B[0;34m\u001B[0m\u001B[0;34m\u001B[0m\u001B[0m\n\u001B[0;32m--> 287\u001B[0;31m                 \u001B[0mcoor_m\u001B[0m \u001B[0;34m=\u001B[0m \u001B[0moperation\u001B[0m\u001B[0;34m.\u001B[0m\u001B[0mget_measure_pos\u001B[0m\u001B[0;34m(\u001B[0m\u001B[0mself\u001B[0m\u001B[0;34m.\u001B[0m\u001B[0m_coordinates\u001B[0m\u001B[0;34m,\u001B[0m \u001B[0mself\u001B[0m\u001B[0;34m.\u001B[0m\u001B[0m_symbols\u001B[0m\u001B[0;34m,\u001B[0m \u001B[0morientation\u001B[0m\u001B[0;34m=\u001B[0m\u001B[0mrotmol\u001B[0m\u001B[0;34m)\u001B[0m\u001B[0;34m\u001B[0m\u001B[0;34m\u001B[0m\u001B[0m\n\u001B[0m\u001B[1;32m    288\u001B[0m                 \u001B[0mcoor_measures\u001B[0m\u001B[0;34m.\u001B[0m\u001B[0mappend\u001B[0m\u001B[0;34m(\u001B[0m\u001B[0mcoor_m\u001B[0m\u001B[0;34m)\u001B[0m\u001B[0;34m\u001B[0m\u001B[0;34m\u001B[0m\u001B[0m\n\u001B[1;32m    289\u001B[0m \u001B[0;34m\u001B[0m\u001B[0m\n",
      "\u001B[0;32m~/PycharmProjects/posym/posym/operations/reflection.py\u001B[0m in \u001B[0;36mget_measure_pos\u001B[0;34m(self, coordinates, symbols, orientation)\u001B[0m\n\u001B[1;32m     50\u001B[0m \u001B[0;34m\u001B[0m\u001B[0m\n\u001B[1;32m     51\u001B[0m         \u001B[0moperation\u001B[0m \u001B[0;34m=\u001B[0m \u001B[0mreflection\u001B[0m\u001B[0;34m(\u001B[0m\u001B[0mrotated_axis\u001B[0m\u001B[0;34m)\u001B[0m\u001B[0;34m\u001B[0m\u001B[0;34m\u001B[0m\u001B[0m\n\u001B[0;32m---> 52\u001B[0;31m         \u001B[0mmesure_coor\u001B[0m\u001B[0;34m,\u001B[0m \u001B[0mpermu\u001B[0m \u001B[0;34m=\u001B[0m \u001B[0mself\u001B[0m\u001B[0;34m.\u001B[0m\u001B[0mget_permutation\u001B[0m\u001B[0;34m(\u001B[0m\u001B[0moperation\u001B[0m\u001B[0;34m,\u001B[0m \u001B[0mcoordinates\u001B[0m\u001B[0;34m,\u001B[0m \u001B[0msymbols\u001B[0m\u001B[0;34m)\u001B[0m\u001B[0;34m\u001B[0m\u001B[0;34m\u001B[0m\u001B[0m\n\u001B[0m\u001B[1;32m     53\u001B[0m \u001B[0;34m\u001B[0m\u001B[0m\n\u001B[1;32m     54\u001B[0m         \u001B[0;32mreturn\u001B[0m \u001B[0mmesure_coor\u001B[0m\u001B[0;34m\u001B[0m\u001B[0;34m\u001B[0m\u001B[0m\n",
      "\u001B[0;32m~/PycharmProjects/posym/posym/operations/__init__.py\u001B[0m in \u001B[0;36mget_permutation\u001B[0;34m(self, operation, coordinates, symbols)\u001B[0m\n\u001B[1;32m     67\u001B[0m         \u001B[0moperated_coor\u001B[0m \u001B[0;34m=\u001B[0m \u001B[0mnp\u001B[0m\u001B[0;34m.\u001B[0m\u001B[0mdot\u001B[0m\u001B[0;34m(\u001B[0m\u001B[0moperation\u001B[0m\u001B[0;34m,\u001B[0m \u001B[0mcoordinates\u001B[0m\u001B[0;34m.\u001B[0m\u001B[0mT\u001B[0m\u001B[0;34m)\u001B[0m\u001B[0;34m.\u001B[0m\u001B[0mT\u001B[0m\u001B[0;34m\u001B[0m\u001B[0;34m\u001B[0m\u001B[0m\n\u001B[1;32m     68\u001B[0m \u001B[0;34m\u001B[0m\u001B[0m\n\u001B[0;32m---> 69\u001B[0;31m         \u001B[0mdistance_table\u001B[0m \u001B[0;34m=\u001B[0m \u001B[0mget_cross_distance_table\u001B[0m\u001B[0;34m(\u001B[0m\u001B[0mcoordinates\u001B[0m\u001B[0;34m,\u001B[0m \u001B[0moperated_coor\u001B[0m\u001B[0;34m)\u001B[0m\u001B[0;34m\u001B[0m\u001B[0;34m\u001B[0m\u001B[0m\n\u001B[0m\u001B[1;32m     70\u001B[0m         \u001B[0mperm\u001B[0m \u001B[0;34m=\u001B[0m \u001B[0mget_permutation_simple\u001B[0m\u001B[0;34m(\u001B[0m\u001B[0mdistance_table\u001B[0m\u001B[0;34m,\u001B[0m \u001B[0msymbols\u001B[0m\u001B[0;34m)\u001B[0m\u001B[0;34m\u001B[0m\u001B[0;34m\u001B[0m\u001B[0m\n\u001B[1;32m     71\u001B[0m         \u001B[0mpermu_coor\u001B[0m \u001B[0;34m=\u001B[0m \u001B[0moperated_coor\u001B[0m\u001B[0;34m[\u001B[0m\u001B[0mlist\u001B[0m\u001B[0;34m(\u001B[0m\u001B[0mperm\u001B[0m\u001B[0;34m)\u001B[0m\u001B[0;34m]\u001B[0m\u001B[0;34m\u001B[0m\u001B[0;34m\u001B[0m\u001B[0m\n",
      "\u001B[0;32m~/PycharmProjects/posym/posym/operations/__init__.py\u001B[0m in \u001B[0;36mget_cross_distance_table\u001B[0;34m(coordinates_1, coordinates_2)\u001B[0m\n\u001B[1;32m     12\u001B[0m         \u001B[0;32mfor\u001B[0m \u001B[0mj\u001B[0m\u001B[0;34m,\u001B[0m \u001B[0mc2\u001B[0m \u001B[0;32min\u001B[0m \u001B[0menumerate\u001B[0m\u001B[0;34m(\u001B[0m\u001B[0mcoordinates_2\u001B[0m\u001B[0;34m)\u001B[0m\u001B[0;34m:\u001B[0m\u001B[0;34m\u001B[0m\u001B[0;34m\u001B[0m\u001B[0m\n\u001B[1;32m     13\u001B[0m             \u001B[0;31m# print(i, j, c1, c2, np.linalg.norm(c1 - c2))\u001B[0m\u001B[0;34m\u001B[0m\u001B[0;34m\u001B[0m\u001B[0;34m\u001B[0m\u001B[0m\n\u001B[0;32m---> 14\u001B[0;31m             \u001B[0mdistances\u001B[0m\u001B[0;34m[\u001B[0m\u001B[0mi\u001B[0m\u001B[0;34m,\u001B[0m \u001B[0mj\u001B[0m\u001B[0;34m]\u001B[0m \u001B[0;34m=\u001B[0m \u001B[0mnp\u001B[0m\u001B[0;34m.\u001B[0m\u001B[0mlinalg\u001B[0m\u001B[0;34m.\u001B[0m\u001B[0mnorm\u001B[0m\u001B[0;34m(\u001B[0m\u001B[0mc1\u001B[0m \u001B[0;34m-\u001B[0m \u001B[0mc2\u001B[0m\u001B[0;34m)\u001B[0m\u001B[0;34m\u001B[0m\u001B[0;34m\u001B[0m\u001B[0m\n\u001B[0m\u001B[1;32m     15\u001B[0m     \u001B[0;32mreturn\u001B[0m \u001B[0mdistances\u001B[0m\u001B[0;34m\u001B[0m\u001B[0;34m\u001B[0m\u001B[0m\n\u001B[1;32m     16\u001B[0m \u001B[0;34m\u001B[0m\u001B[0m\n",
      "\u001B[0;32m<__array_function__ internals>\u001B[0m in \u001B[0;36mnorm\u001B[0;34m(*args, **kwargs)\u001B[0m\n",
      "\u001B[0;32m/usr/local/lib/python3.9/site-packages/numpy/linalg/linalg.py\u001B[0m in \u001B[0;36mnorm\u001B[0;34m(x, ord, axis, keepdims)\u001B[0m\n\u001B[1;32m   2511\u001B[0m \u001B[0;34m\u001B[0m\u001B[0m\n\u001B[1;32m   2512\u001B[0m     \"\"\"\n\u001B[0;32m-> 2513\u001B[0;31m     \u001B[0mx\u001B[0m \u001B[0;34m=\u001B[0m \u001B[0masarray\u001B[0m\u001B[0;34m(\u001B[0m\u001B[0mx\u001B[0m\u001B[0;34m)\u001B[0m\u001B[0;34m\u001B[0m\u001B[0;34m\u001B[0m\u001B[0m\n\u001B[0m\u001B[1;32m   2514\u001B[0m \u001B[0;34m\u001B[0m\u001B[0m\n\u001B[1;32m   2515\u001B[0m     \u001B[0;32mif\u001B[0m \u001B[0;32mnot\u001B[0m \u001B[0missubclass\u001B[0m\u001B[0;34m(\u001B[0m\u001B[0mx\u001B[0m\u001B[0;34m.\u001B[0m\u001B[0mdtype\u001B[0m\u001B[0;34m.\u001B[0m\u001B[0mtype\u001B[0m\u001B[0;34m,\u001B[0m \u001B[0;34m(\u001B[0m\u001B[0minexact\u001B[0m\u001B[0;34m,\u001B[0m \u001B[0mobject_\u001B[0m\u001B[0;34m)\u001B[0m\u001B[0;34m)\u001B[0m\u001B[0;34m:\u001B[0m\u001B[0;34m\u001B[0m\u001B[0;34m\u001B[0m\u001B[0m\n",
      "\u001B[0;32m/usr/local/lib/python3.9/site-packages/numpy/core/_asarray.py\u001B[0m in \u001B[0;36masarray\u001B[0;34m(a, dtype, order, like)\u001B[0m\n\u001B[1;32m     21\u001B[0m \u001B[0;34m\u001B[0m\u001B[0m\n\u001B[1;32m     22\u001B[0m \u001B[0;34m\u001B[0m\u001B[0m\n\u001B[0;32m---> 23\u001B[0;31m \u001B[0;34m@\u001B[0m\u001B[0mset_array_function_like_doc\u001B[0m\u001B[0;34m\u001B[0m\u001B[0;34m\u001B[0m\u001B[0m\n\u001B[0m\u001B[1;32m     24\u001B[0m \u001B[0;34m@\u001B[0m\u001B[0mset_module\u001B[0m\u001B[0;34m(\u001B[0m\u001B[0;34m'numpy'\u001B[0m\u001B[0;34m)\u001B[0m\u001B[0;34m\u001B[0m\u001B[0;34m\u001B[0m\u001B[0m\n\u001B[1;32m     25\u001B[0m \u001B[0;32mdef\u001B[0m \u001B[0masarray\u001B[0m\u001B[0;34m(\u001B[0m\u001B[0ma\u001B[0m\u001B[0;34m,\u001B[0m \u001B[0mdtype\u001B[0m\u001B[0;34m=\u001B[0m\u001B[0;32mNone\u001B[0m\u001B[0;34m,\u001B[0m \u001B[0morder\u001B[0m\u001B[0;34m=\u001B[0m\u001B[0;32mNone\u001B[0m\u001B[0;34m,\u001B[0m \u001B[0;34m*\u001B[0m\u001B[0;34m,\u001B[0m \u001B[0mlike\u001B[0m\u001B[0;34m=\u001B[0m\u001B[0;32mNone\u001B[0m\u001B[0;34m)\u001B[0m\u001B[0;34m:\u001B[0m\u001B[0;34m\u001B[0m\u001B[0;34m\u001B[0m\u001B[0m\n",
      "\u001B[0;31mKeyboardInterrupt\u001B[0m: "
     ]
    }
   ],
   "source": [
    "sym_density = SymmetryFunction('c2v', f_density)\n",
    "print('Symmetry density: ', sym_density)\n",
    "print('density self_similarity', sym_density.self_similarity)"
   ]
  },
  {
   "cell_type": "markdown",
   "metadata": {},
   "source": [
    "This class can be also used to analyze the symmetry of the molecular orbitals in the same way."
   ]
  },
  {
   "cell_type": "code",
   "execution_count": null,
   "metadata": {
    "pycharm": {
     "name": "#%%\n"
    }
   },
   "outputs": [],
   "source": [
    "sym_o1 = SymmetryFunction('c2v', o1)\n",
    "sym_o2 = SymmetryFunction('c2v', o2)\n",
    "sym_o3 = SymmetryFunction('c2v', o3)\n",
    "sym_o4 = SymmetryFunction('c2v', o4)\n",
    "sym_o5 = SymmetryFunction('c2v', o5)\n",
    "sym_o6 = SymmetryFunction('c2v', o6)\n",
    "\n",
    "print('Symmetry O1: ', sym_o1)\n",
    "print('Symmetry O2: ', sym_o2)\n",
    "print('Symmetry O3: ', sym_o3)\n",
    "print('Symmetry O4: ', sym_o4)\n",
    "print('Symmetry O5: ', sym_o5)\n",
    "print('Symmetry O6: ', sym_o6)"
   ]
  },
  {
   "cell_type": "markdown",
   "source": [
    "The symmetry of the whole wave function is computed using SymmetryWaveFunction class. The instance of this class\n",
    "is generated from a list of the occupied alpha and beta orbitals and returns a symmetry object. The following example\n",
    "computes the symmetry of 3 different electronic configurations."
   ],
   "metadata": {
    "collapsed": false
   }
  },
  {
   "cell_type": "code",
   "execution_count": null,
   "outputs": [],
   "source": [
    "from posym import SymmetryWaveFunction\n",
    "\n",
    "# restricted close shell\n",
    "sym_wf_gs = SymmetryWaveFunction('c2v',\n",
    "                                 alpha_orbitals=[o1, o2, o3, o4, o5],\n",
    "                                 beta_orbitals=[o1, o2, o3, o4, o5])\n",
    "print('Symmetry WF (ground state): ', sym_wf_gs)\n",
    "\n",
    "# restricted open shell\n",
    "sym_wf_excited_1 = SymmetryWaveFunction('c2v',\n",
    "                                 alpha_orbitals=[o1, o2, o3, o4, o5],\n",
    "                                 beta_orbitals=[o1, o2, o3, o4, o6])\n",
    "print('Symmetry WF (excited state 1): ', sym_wf_excited_1)\n",
    "\n",
    "# restricted close shell\n",
    "sym_wf_excited_2 = SymmetryWaveFunction('c2v',\n",
    "                                 alpha_orbitals=[o1, o2, o3, o4, o6],\n",
    "                                 beta_orbitals=[o1, o2, o3, o4, o6])\n",
    "print('Symmetry WF (excited state 2): ', sym_wf_excited_2)"
   ],
   "metadata": {
    "collapsed": false,
    "pycharm": {
     "name": "#%%\n"
    }
   }
  },
  {
   "cell_type": "markdown",
   "metadata": {},
   "source": [
    "The symmetry of simple wave functions (with no degenerated symmetries) can be also obtained by the product of the\n",
    "symmetry of the different occupied orbitals. The following example illustrates this by building the symmetry\n",
    "of the previous electronic configurations using orbital symmetry products."
   ]
  },
  {
   "cell_type": "code",
   "execution_count": null,
   "metadata": {
    "pycharm": {
     "name": "#%%\n"
    }
   },
   "outputs": [],
   "source": [
    "# restricted close shell\n",
    "sym_wf_gs = sym_o1*sym_o1 * sym_o2*sym_o2 * sym_o3*sym_o3 * sym_o4*sym_o4 * sym_o5*sym_o5\n",
    "print('Symmetry WF (ground state): ', sym_wf_gs)\n",
    "\n",
    "# restricted open shell\n",
    "sym_wf_excited_1 = sym_o1*sym_o1 * sym_o2*sym_o2 * sym_o3*sym_o3 * sym_o4*sym_o4 * sym_o5*sym_o6\n",
    "print('Symmetry WF (excited state 1): ', sym_wf_excited_1)\n",
    "\n",
    "# restricted close shell\n",
    "sym_wf_excited_2 = sym_o1*sym_o1 * sym_o2*sym_o2 * sym_o3*sym_o3 * sym_o4*sym_o4 * sym_o6*sym_o6\n",
    "print('Symmetry WF (excited state 2): ', sym_wf_excited_2)"
   ]
  },
  {
   "cell_type": "markdown",
   "metadata": {
    "pycharm": {
     "name": "#%% md\n"
    }
   },
   "source": [
    "The analysis of the symmetry of an operator is performed in the same way as the electronic density.\n",
    "The following example shows the analysis of dipole moment operator matrix defined in the basis of\n",
    "the atomic orbitals of H2O molecule."
   ]
  },
  {
   "cell_type": "code",
   "execution_count": null,
   "metadata": {
    "pycharm": {
     "name": "#%%\n"
    }
   },
   "outputs": [],
   "source": [
    "# dipole moment operator\n",
    "dipole_x = [[          0.,          0.,  5.0792e-02,   0.,          0., -2.8130e-03,   2.8130e-03],\n",
    "            [          0.,          0.,  6.4117e-01,   0.,          0., -2.7580e-01,   2.7580e-01],\n",
    "            [  5.0792e-02,  6.4117e-01,          0.,   0.,          0.,  4.7462e-01,   4.7462e-01],\n",
    "            [          0.,          0.,          0.,   0.,          0.,          0.,           0.],\n",
    "            [          0.,          0.,          0.,   0.,          0.,  1.5329e-01,  -1.5329e-01],\n",
    "            [ -2.8130e-03, -2.7580e-01,  4.7462e-01,   0.,  1.5329e-01, -1.4326e+00,   6.9389e-18],\n",
    "            [  2.8130e-03,  2.7580e-01,  4.7462e-01,   0., -1.5329e-01,  6.9389e-18,   1.4326e+00]]\n",
    "\n",
    "\n",
    "dipole_y = [[     0.,     0.,     0.,   0.0508,     0.,     0.,     0.],\n",
    "            [     0.,     0.,     0.,   0.6412,     0.,     0.,     0.],\n",
    "            [     0.,     0.,     0.,       0.,     0.,     0.,     0.],\n",
    "            [ 0.0508, 0.6412,     0.,       0.,     0., 0.2918, 0.2918],\n",
    "            [     0.,     0.,     0.,       0.,     0.,     0.,     0.],\n",
    "            [     0.,     0.,     0.,   0.2918,     0.,     0.,     0.],\n",
    "            [     0.,     0.,     0.,   0.2918,     0.,     0.,     0.]]\n",
    "\n",
    "dipole_z = [[  -0.0809,  -0.0191,      0.,      0.,   0.0508,  -0.0064,  -0.0064],\n",
    "            [  -0.0191,  -0.0809,      0.,      0.,   0.6412,  -0.2680,  -0.2680],\n",
    "            [       0.,       0., -0.0809,      0.,       0.,   0.1770,  -0.1770],\n",
    "            [       0.,       0.,      0., -0.0809,       0.,       0.,       0.],\n",
    "            [   0.0508,   0.6412,      0.,      0.,  -0.0809,   0.4403,   0.4403],\n",
    "            [  -0.0064,  -0.2680,  0.1770,      0.,   0.4403,  -1.2824,  -0.3217],\n",
    "            [  -0.0064,  -0.2680, -0.1770,      0.,   0.4403,  -0.3217,  -1.2824]]\n",
    "\n",
    "\n",
    "f_dipole_x = build_density(basis_set, dipole_x)\n",
    "f_dipole_y = build_density(basis_set, dipole_y)\n",
    "f_dipole_z = build_density(basis_set, dipole_z)\n",
    "\n",
    "sym_dipole_x = SymmetryFunction('c2v', f_dipole_x)\n",
    "sym_dipole_y = SymmetryFunction('c2v', f_dipole_y)\n",
    "sym_dipole_z = SymmetryFunction('c2v', f_dipole_z)\n",
    "\n",
    "print('Symmetry dipole X operator: ', sym_dipole_x)\n",
    "print('Symmetry dipole Y operator: ', sym_dipole_y)\n",
    "print('Symmetry dipole Z operator: ', sym_dipole_z)"
   ]
  },
  {
   "cell_type": "markdown",
   "metadata": {},
   "source": [
    "## Vibrations\n",
    "\n",
    "The vibrational analysis is performed using the normal modes.\n",
    "The class SymmetryModes implements the machinery to obtain the\n",
    "symmetry of the normal modes. The result is a combined symmetry\n",
    "object containing the symmetry of all normal modes.\n",
    "The method *get_state_mode()* can be used to get the symmetry\n",
    "of the individual modes."
   ]
  },
  {
   "cell_type": "code",
   "execution_count": null,
   "metadata": {
    "pycharm": {
     "name": "#%%\n"
    }
   },
   "outputs": [],
   "source": [
    "normal_modes = [[[ 0.,     0.,    -0.075],\n",
    "                 [-0.381, -0.,     0.593],\n",
    "                 [ 0.381, -0.,     0.593]], # mode 1\n",
    "\n",
    "                [[-0.   , -0.,     0.044],\n",
    "                 [-0.613, -0.,    -0.35 ],\n",
    "                 [ 0.613,  0.,    -0.35 ]], # mode 2\n",
    "\n",
    "                [[-0.073, -0.,    -0.   ],\n",
    "                 [ 0.583,  0.,     0.397],\n",
    "                 [ 0.583,  0.,    -0.397]]] # mode 3\n",
    "\n",
    "sym_modes_gs = SymmetryModes(group='c2v', coordinates=coordinates, modes=normal_modes, symbols=symbols)\n",
    "print('Symmetry normal modes: ', sym_modes_gs)\n",
    "\n",
    "frequencies = [1737.01, 3988.5, 4145.43]\n",
    "for i in range(len(normal_modes)):\n",
    "    print('mode {:2}: {:8.3f} :'.format(i + 1, frequencies[i]), sym_modes_gs.get_state_mode(i))"
   ]
  },
  {
   "cell_type": "markdown",
   "metadata": {},
   "source": [
    "## Transition analysis\n",
    "The symmetry objects obtained in the previous examples can be operated to obtain the symmetry\n",
    "of more sophisticated processes. In the following example I compute the symmetry of the transition\n",
    "between the previously defined electronic states.\n",
    "In this example I assume an ideal transition between the ground state and the excited state defined previously.\n"
   ]
  },
  {
   "cell_type": "code",
   "execution_count": null,
   "metadata": {
    "pycharm": {
     "name": "#%%\n"
    }
   },
   "outputs": [],
   "source": [
    "sym_dipole = sym_dipole_x + sym_dipole_y + sym_dipole_z\n",
    "transition_1 = sym_wf_gs * sym_dipole * sym_wf_excited_1\n",
    "transition_2 = sym_wf_gs * sym_dipole * sym_wf_excited_2\n",
    "\n",
    "print('Transition 1\\n-----------------')\n",
    "print('Transition symmetry', transition_1)\n",
    "\n",
    "# Projection into the most symmetric representation is proportional to the probability of transition\n",
    "print('Transition projection: ', al.dot(SymmetryBase('c2v', 'A1'), transition_1))\n",
    "print('Transition projection (normalized): ', al.dot(SymmetryBase('c2v', 'A1'), transition_1, normalize=True))\n",
    "\n",
    "print('\\nTransition 2\\n-----------------')\n",
    "print('Transition symmetry', transition_2)\n",
    "\n",
    "# Projection into the most symmetric representation is proportional to the probability of transition\n",
    "print('Transition projection: ', al.dot(SymmetryBase('c2v', 'A1'), transition_2))\n",
    "print('Transition projection (normalized): ', al.dot(SymmetryBase('c2v', 'A1'), transition_2, normalize=True))\n",
    "\n"
   ]
  },
  {
   "cell_type": "markdown",
   "metadata": {},
   "source": [
    "Assuming the vibrations of normal modes of ground state and excited state are equal we can analyze\n",
    "the transition symmetry including the vibrations.\n"
   ]
  },
  {
   "cell_type": "code",
   "execution_count": null,
   "metadata": {
    "pycharm": {
     "name": "#%%\n"
    }
   },
   "outputs": [],
   "source": [
    "sym_modes_excited = sym_modes_gs\n",
    "\n",
    "transition_1_m = sym_modes_gs *  sym_wf_gs * sym_dipole * sym_wf_excited_1 * sym_modes_excited\n",
    "transition_2_m = sym_modes_gs *  sym_wf_gs * sym_dipole * sym_wf_excited_2 * sym_modes_excited\n",
    "\n",
    "print('Transition 1\\n-----------------')\n",
    "print('Transition symmetry', transition_1_m)\n",
    "\n",
    "# Projection into the most symmetric representation is proportional to the probability of transition\n",
    "print('Transition projection: ', al.dot(SymmetryBase('c2v', 'A1'), transition_1_m))\n",
    "print('Transition projection (normalized): ', al.dot(SymmetryBase('c2v', 'A1'), transition_1_m, normalize=True))\n",
    "\n",
    "print('\\nTransition 2\\n-----------------')\n",
    "print('Transition symmetry', transition_2_m)\n",
    "\n",
    "# Projection into the most symmetric representation is proportional to the probability of transition\n",
    "print('Transition projection: ', al.dot(SymmetryBase('c2v', 'A1'), transition_2_m))\n",
    "print('Transition projection (normalized): ', al.dot(SymmetryBase('c2v', 'A1'), transition_2_m, normalize=True))"
   ]
  }
 ],
 "metadata": {
  "kernelspec": {
   "display_name": "Python 3",
   "language": "python",
   "name": "python3"
  },
  "language_info": {
   "codemirror_mode": {
    "name": "ipython",
    "version": 3
   },
   "file_extension": ".py",
   "mimetype": "text/x-python",
   "name": "python",
   "nbconvert_exporter": "python",
   "pygments_lexer": "ipython3",
   "version": "3.9.6"
  }
 },
 "nbformat": 4,
 "nbformat_minor": 1
}